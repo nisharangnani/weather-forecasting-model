{
  "nbformat": 4,
  "nbformat_minor": 0,
  "metadata": {
    "kernelspec": {
      "display_name": "Python 3",
      "language": "python",
      "name": "python3"
    },
    "language_info": {
      "codemirror_mode": {
        "name": "ipython",
        "version": 3
      },
      "file_extension": ".py",
      "mimetype": "text/x-python",
      "name": "python",
      "nbconvert_exporter": "python",
      "pygments_lexer": "ipython3",
      "version": "3.6.7"
    },
    "colab": {
      "name": "Untitled (1) (1) (1) (1) (1).ipynb",
      "provenance": [],
      "machine_shape": "hm"
    }
  },
  "cells": [
    {
      "cell_type": "markdown",
      "metadata": {
        "id": "xLyGlQR-z0ad",
        "colab_type": "text"
      },
      "source": [
        "# IST 707 - HW2"
      ]
    },
    {
      "cell_type": "markdown",
      "metadata": {
        "id": "FHZJo9Gez_fI",
        "colab_type": "text"
      },
      "source": [
        "## Step 1 - Data Preparation & Exploratory Data Analysis\n"
      ]
    },
    {
      "cell_type": "code",
      "metadata": {
        "id": "Ldn1jztri_MS",
        "colab_type": "code",
        "colab": {}
      },
      "source": [
        "import pandas as pd\n",
        "import numpy as np\n",
        "import matplotlib.pyplot as plt\n",
        "from sklearn import preprocessing\n",
        "from scipy.spatial import distance_matrix\n",
        "from sklearn.cluster import KMeans, AgglomerativeClustering\n",
        "from sklearn.preprocessing import LabelBinarizer\n",
        "from sklearn.model_selection import train_test_split\n",
        "from sklearn.metrics import accuracy_score, roc_curve, auc\n",
        "from sklearn.metrics import recall_score\n",
        "from sklearn.tree import DecisionTreeClassifier"
      ],
      "execution_count": 0,
      "outputs": []
    },
    {
      "cell_type": "markdown",
      "metadata": {
        "id": "qGEN6kpr0IVR",
        "colab_type": "text"
      },
      "source": [
        "#### Import data from Google Drive"
      ]
    },
    {
      "cell_type": "code",
      "metadata": {
        "id": "gMaE1xG3jZwy",
        "colab_type": "code",
        "colab": {
          "base_uri": "https://localhost:8080/",
          "height": 34
        },
        "outputId": "09d0910d-503d-4655-c690-23c24e301a96"
      },
      "source": [
        "from google.colab import drive\n",
        "drive.mount('/content/gdrive', force_remount=True)"
      ],
      "execution_count": 168,
      "outputs": [
        {
          "output_type": "stream",
          "text": [
            "Mounted at /content/gdrive\n"
          ],
          "name": "stdout"
        }
      ]
    },
    {
      "cell_type": "code",
      "metadata": {
        "id": "xVe-jfsxi_MV",
        "colab_type": "code",
        "colab": {
          "base_uri": "https://localhost:8080/",
          "height": 218
        },
        "outputId": "f73d5326-d304-4f4d-ea53-b353a15bff25"
      },
      "source": [
        "%%bash\n",
        "pip install seaborn\n",
        "\n"
      ],
      "execution_count": 169,
      "outputs": [
        {
          "output_type": "stream",
          "text": [
            "Requirement already satisfied: seaborn in /usr/local/lib/python3.6/dist-packages (0.10.0)\n",
            "Requirement already satisfied: matplotlib>=2.1.2 in /usr/local/lib/python3.6/dist-packages (from seaborn) (3.1.3)\n",
            "Requirement already satisfied: numpy>=1.13.3 in /usr/local/lib/python3.6/dist-packages (from seaborn) (1.17.5)\n",
            "Requirement already satisfied: scipy>=1.0.1 in /usr/local/lib/python3.6/dist-packages (from seaborn) (1.4.1)\n",
            "Requirement already satisfied: pandas>=0.22.0 in /usr/local/lib/python3.6/dist-packages (from seaborn) (0.25.3)\n",
            "Requirement already satisfied: python-dateutil>=2.1 in /usr/local/lib/python3.6/dist-packages (from matplotlib>=2.1.2->seaborn) (2.6.1)\n",
            "Requirement already satisfied: cycler>=0.10 in /usr/local/lib/python3.6/dist-packages (from matplotlib>=2.1.2->seaborn) (0.10.0)\n",
            "Requirement already satisfied: kiwisolver>=1.0.1 in /usr/local/lib/python3.6/dist-packages (from matplotlib>=2.1.2->seaborn) (1.1.0)\n",
            "Requirement already satisfied: pyparsing!=2.0.4,!=2.1.2,!=2.1.6,>=2.0.1 in /usr/local/lib/python3.6/dist-packages (from matplotlib>=2.1.2->seaborn) (2.4.6)\n",
            "Requirement already satisfied: pytz>=2017.2 in /usr/local/lib/python3.6/dist-packages (from pandas>=0.22.0->seaborn) (2018.9)\n",
            "Requirement already satisfied: six>=1.5 in /usr/local/lib/python3.6/dist-packages (from python-dateutil>=2.1->matplotlib>=2.1.2->seaborn) (1.12.0)\n",
            "Requirement already satisfied: setuptools in /usr/local/lib/python3.6/dist-packages (from kiwisolver>=1.0.1->matplotlib>=2.1.2->seaborn) (45.1.0)\n"
          ],
          "name": "stdout"
        }
      ]
    },
    {
      "cell_type": "code",
      "metadata": {
        "id": "uP4oRL9Gj3Dh",
        "colab_type": "code",
        "colab": {}
      },
      "source": [
        "DATASET_PATH = 'gdrive/My Drive/Nisha/MS_ADS/DA/'\n",
        "TRAIN_PATH = DATASET_PATH + 'weather_forecast_train.csv'\n",
        "TEST_PATH = DATASET_PATH + 'weather_forecast_test.csv'\n",
        "\n",
        "OUTPUT_COL = 'RainTomorrow'\n",
        "df_train = pd.read_csv(TRAIN_PATH)\n",
        "df_test = pd.read_csv(TEST_PATH)\n",
        "df_test_copy = df_test"
      ],
      "execution_count": 0,
      "outputs": []
    },
    {
      "cell_type": "code",
      "metadata": {
        "id": "LT7T68q6i_Ma",
        "colab_type": "code",
        "colab": {
          "base_uri": "https://localhost:8080/",
          "height": 34
        },
        "outputId": "1320066d-9a67-4ba4-e536-db855e563976"
      },
      "source": [
        "df_train.shape"
      ],
      "execution_count": 171,
      "outputs": [
        {
          "output_type": "execute_result",
          "data": {
            "text/plain": [
              "(51978, 16)"
            ]
          },
          "metadata": {
            "tags": []
          },
          "execution_count": 171
        }
      ]
    },
    {
      "cell_type": "code",
      "metadata": {
        "id": "0WxY89w6i_Md",
        "colab_type": "code",
        "colab": {
          "base_uri": "https://localhost:8080/",
          "height": 34
        },
        "outputId": "2d7235e9-128b-4d50-efd3-c6b6563f8e42"
      },
      "source": [
        "df_test.shape"
      ],
      "execution_count": 172,
      "outputs": [
        {
          "output_type": "execute_result",
          "data": {
            "text/plain": [
              "(12994, 16)"
            ]
          },
          "metadata": {
            "tags": []
          },
          "execution_count": 172
        }
      ]
    },
    {
      "cell_type": "code",
      "metadata": {
        "id": "u4T6mPuCi_Mg",
        "colab_type": "code",
        "colab": {
          "base_uri": "https://localhost:8080/",
          "height": 284
        },
        "outputId": "a93d7325-e276-4825-c3a2-b8a15c72e476"
      },
      "source": [
        "df_train.describe()"
      ],
      "execution_count": 173,
      "outputs": [
        {
          "output_type": "execute_result",
          "data": {
            "text/html": [
              "<div>\n",
              "<style scoped>\n",
              "    .dataframe tbody tr th:only-of-type {\n",
              "        vertical-align: middle;\n",
              "    }\n",
              "\n",
              "    .dataframe tbody tr th {\n",
              "        vertical-align: top;\n",
              "    }\n",
              "\n",
              "    .dataframe thead th {\n",
              "        text-align: right;\n",
              "    }\n",
              "</style>\n",
              "<table border=\"1\" class=\"dataframe\">\n",
              "  <thead>\n",
              "    <tr style=\"text-align: right;\">\n",
              "      <th></th>\n",
              "      <th>MinTemp</th>\n",
              "      <th>MaxTemp</th>\n",
              "      <th>Rainfall</th>\n",
              "      <th>Evaporation</th>\n",
              "      <th>Sunshine</th>\n",
              "      <th>WindGustSpeed</th>\n",
              "      <th>WindSpeed</th>\n",
              "      <th>Humidity</th>\n",
              "      <th>Pressure</th>\n",
              "      <th>Cloud</th>\n",
              "      <th>Temp</th>\n",
              "    </tr>\n",
              "  </thead>\n",
              "  <tbody>\n",
              "    <tr>\n",
              "      <th>count</th>\n",
              "      <td>51694.000000</td>\n",
              "      <td>51849.000000</td>\n",
              "      <td>51231.000000</td>\n",
              "      <td>29425.000000</td>\n",
              "      <td>27103.000000</td>\n",
              "      <td>48407.000000</td>\n",
              "      <td>50954.000000</td>\n",
              "      <td>50549.000000</td>\n",
              "      <td>46912.000000</td>\n",
              "      <td>31848.000000</td>\n",
              "      <td>50915.000000</td>\n",
              "    </tr>\n",
              "    <tr>\n",
              "      <th>mean</th>\n",
              "      <td>12.549174</td>\n",
              "      <td>22.512698</td>\n",
              "      <td>3.639494</td>\n",
              "      <td>5.177570</td>\n",
              "      <td>6.530580</td>\n",
              "      <td>42.003016</td>\n",
              "      <td>19.092299</td>\n",
              "      <td>57.432214</td>\n",
              "      <td>1014.273338</td>\n",
              "      <td>5.175647</td>\n",
              "      <td>20.845623</td>\n",
              "    </tr>\n",
              "    <tr>\n",
              "      <th>std</th>\n",
              "      <td>6.376746</td>\n",
              "      <td>7.113064</td>\n",
              "      <td>11.009628</td>\n",
              "      <td>4.017662</td>\n",
              "      <td>3.946561</td>\n",
              "      <td>14.627024</td>\n",
              "      <td>9.157505</td>\n",
              "      <td>21.833045</td>\n",
              "      <td>7.278733</td>\n",
              "      <td>2.632166</td>\n",
              "      <td>6.938471</td>\n",
              "    </tr>\n",
              "    <tr>\n",
              "      <th>min</th>\n",
              "      <td>-8.000000</td>\n",
              "      <td>-4.100000</td>\n",
              "      <td>0.000000</td>\n",
              "      <td>0.000000</td>\n",
              "      <td>0.000000</td>\n",
              "      <td>7.000000</td>\n",
              "      <td>0.000000</td>\n",
              "      <td>1.000000</td>\n",
              "      <td>977.100000</td>\n",
              "      <td>0.000000</td>\n",
              "      <td>-4.400000</td>\n",
              "    </tr>\n",
              "    <tr>\n",
              "      <th>25%</th>\n",
              "      <td>7.900000</td>\n",
              "      <td>17.200000</td>\n",
              "      <td>0.000000</td>\n",
              "      <td>2.400000</td>\n",
              "      <td>3.200000</td>\n",
              "      <td>31.000000</td>\n",
              "      <td>13.000000</td>\n",
              "      <td>42.000000</td>\n",
              "      <td>1009.300000</td>\n",
              "      <td>3.000000</td>\n",
              "      <td>15.700000</td>\n",
              "    </tr>\n",
              "    <tr>\n",
              "      <th>50%</th>\n",
              "      <td>12.300000</td>\n",
              "      <td>21.800000</td>\n",
              "      <td>0.000000</td>\n",
              "      <td>4.400000</td>\n",
              "      <td>6.900000</td>\n",
              "      <td>39.000000</td>\n",
              "      <td>19.000000</td>\n",
              "      <td>58.000000</td>\n",
              "      <td>1014.200000</td>\n",
              "      <td>6.000000</td>\n",
              "      <td>20.200000</td>\n",
              "    </tr>\n",
              "    <tr>\n",
              "      <th>75%</th>\n",
              "      <td>17.200000</td>\n",
              "      <td>27.500000</td>\n",
              "      <td>2.200000</td>\n",
              "      <td>7.000000</td>\n",
              "      <td>9.900000</td>\n",
              "      <td>50.000000</td>\n",
              "      <td>24.000000</td>\n",
              "      <td>73.000000</td>\n",
              "      <td>1019.200000</td>\n",
              "      <td>7.000000</td>\n",
              "      <td>25.600000</td>\n",
              "    </tr>\n",
              "    <tr>\n",
              "      <th>max</th>\n",
              "      <td>31.400000</td>\n",
              "      <td>47.000000</td>\n",
              "      <td>371.000000</td>\n",
              "      <td>77.300000</td>\n",
              "      <td>14.500000</td>\n",
              "      <td>135.000000</td>\n",
              "      <td>83.000000</td>\n",
              "      <td>100.000000</td>\n",
              "      <td>1037.800000</td>\n",
              "      <td>8.000000</td>\n",
              "      <td>46.100000</td>\n",
              "    </tr>\n",
              "  </tbody>\n",
              "</table>\n",
              "</div>"
            ],
            "text/plain": [
              "            MinTemp       MaxTemp  ...         Cloud          Temp\n",
              "count  51694.000000  51849.000000  ...  31848.000000  50915.000000\n",
              "mean      12.549174     22.512698  ...      5.175647     20.845623\n",
              "std        6.376746      7.113064  ...      2.632166      6.938471\n",
              "min       -8.000000     -4.100000  ...      0.000000     -4.400000\n",
              "25%        7.900000     17.200000  ...      3.000000     15.700000\n",
              "50%       12.300000     21.800000  ...      6.000000     20.200000\n",
              "75%       17.200000     27.500000  ...      7.000000     25.600000\n",
              "max       31.400000     47.000000  ...      8.000000     46.100000\n",
              "\n",
              "[8 rows x 11 columns]"
            ]
          },
          "metadata": {
            "tags": []
          },
          "execution_count": 173
        }
      ]
    },
    {
      "cell_type": "code",
      "metadata": {
        "id": "_8FIzQ3vi_Mi",
        "colab_type": "code",
        "colab": {
          "base_uri": "https://localhost:8080/",
          "height": 343
        },
        "outputId": "e3c44165-8002-45a1-d6f9-4bd5b1c5ffe8"
      },
      "source": [
        "df_train.head(10)"
      ],
      "execution_count": 174,
      "outputs": [
        {
          "output_type": "execute_result",
          "data": {
            "text/html": [
              "<div>\n",
              "<style scoped>\n",
              "    .dataframe tbody tr th:only-of-type {\n",
              "        vertical-align: middle;\n",
              "    }\n",
              "\n",
              "    .dataframe tbody tr th {\n",
              "        vertical-align: top;\n",
              "    }\n",
              "\n",
              "    .dataframe thead th {\n",
              "        text-align: right;\n",
              "    }\n",
              "</style>\n",
              "<table border=\"1\" class=\"dataframe\">\n",
              "  <thead>\n",
              "    <tr style=\"text-align: right;\">\n",
              "      <th></th>\n",
              "      <th>Location</th>\n",
              "      <th>MinTemp</th>\n",
              "      <th>MaxTemp</th>\n",
              "      <th>Rainfall</th>\n",
              "      <th>Evaporation</th>\n",
              "      <th>Sunshine</th>\n",
              "      <th>WindGustDir</th>\n",
              "      <th>WindGustSpeed</th>\n",
              "      <th>WindDir</th>\n",
              "      <th>WindSpeed</th>\n",
              "      <th>Humidity</th>\n",
              "      <th>Pressure</th>\n",
              "      <th>Cloud</th>\n",
              "      <th>Temp</th>\n",
              "      <th>RainToday</th>\n",
              "      <th>RainTomorrow</th>\n",
              "    </tr>\n",
              "  </thead>\n",
              "  <tbody>\n",
              "    <tr>\n",
              "      <th>0</th>\n",
              "      <td>NorahHead</td>\n",
              "      <td>18.9</td>\n",
              "      <td>23.7</td>\n",
              "      <td>0.0</td>\n",
              "      <td>NaN</td>\n",
              "      <td>NaN</td>\n",
              "      <td>SSE</td>\n",
              "      <td>41.0</td>\n",
              "      <td>SSE</td>\n",
              "      <td>28.0</td>\n",
              "      <td>55.0</td>\n",
              "      <td>1026.0</td>\n",
              "      <td>NaN</td>\n",
              "      <td>22.4</td>\n",
              "      <td>No</td>\n",
              "      <td>Yes</td>\n",
              "    </tr>\n",
              "    <tr>\n",
              "      <th>1</th>\n",
              "      <td>Nuriootpa</td>\n",
              "      <td>11.1</td>\n",
              "      <td>20.8</td>\n",
              "      <td>0.0</td>\n",
              "      <td>4.8</td>\n",
              "      <td>8.3</td>\n",
              "      <td>W</td>\n",
              "      <td>39.0</td>\n",
              "      <td>WSW</td>\n",
              "      <td>26.0</td>\n",
              "      <td>48.0</td>\n",
              "      <td>1014.4</td>\n",
              "      <td>7.0</td>\n",
              "      <td>19.5</td>\n",
              "      <td>No</td>\n",
              "      <td>No</td>\n",
              "    </tr>\n",
              "    <tr>\n",
              "      <th>2</th>\n",
              "      <td>GoldCoast</td>\n",
              "      <td>15.9</td>\n",
              "      <td>19.5</td>\n",
              "      <td>17.6</td>\n",
              "      <td>NaN</td>\n",
              "      <td>NaN</td>\n",
              "      <td>SE</td>\n",
              "      <td>44.0</td>\n",
              "      <td>SW</td>\n",
              "      <td>9.0</td>\n",
              "      <td>99.0</td>\n",
              "      <td>1028.5</td>\n",
              "      <td>NaN</td>\n",
              "      <td>17.8</td>\n",
              "      <td>Yes</td>\n",
              "      <td>Yes</td>\n",
              "    </tr>\n",
              "    <tr>\n",
              "      <th>3</th>\n",
              "      <td>Bendigo</td>\n",
              "      <td>0.0</td>\n",
              "      <td>14.9</td>\n",
              "      <td>0.0</td>\n",
              "      <td>NaN</td>\n",
              "      <td>NaN</td>\n",
              "      <td>WSW</td>\n",
              "      <td>35.0</td>\n",
              "      <td>WNW</td>\n",
              "      <td>19.0</td>\n",
              "      <td>55.0</td>\n",
              "      <td>1023.0</td>\n",
              "      <td>4.0</td>\n",
              "      <td>14.2</td>\n",
              "      <td>No</td>\n",
              "      <td>Yes</td>\n",
              "    </tr>\n",
              "    <tr>\n",
              "      <th>4</th>\n",
              "      <td>Walpole</td>\n",
              "      <td>9.1</td>\n",
              "      <td>22.7</td>\n",
              "      <td>0.0</td>\n",
              "      <td>NaN</td>\n",
              "      <td>NaN</td>\n",
              "      <td>NNE</td>\n",
              "      <td>41.0</td>\n",
              "      <td>ESE</td>\n",
              "      <td>7.0</td>\n",
              "      <td>40.0</td>\n",
              "      <td>1027.1</td>\n",
              "      <td>NaN</td>\n",
              "      <td>22.5</td>\n",
              "      <td>No</td>\n",
              "      <td>No</td>\n",
              "    </tr>\n",
              "    <tr>\n",
              "      <th>5</th>\n",
              "      <td>MelbourneAirport</td>\n",
              "      <td>6.6</td>\n",
              "      <td>16.3</td>\n",
              "      <td>8.4</td>\n",
              "      <td>3.4</td>\n",
              "      <td>6.9</td>\n",
              "      <td>S</td>\n",
              "      <td>50.0</td>\n",
              "      <td>S</td>\n",
              "      <td>30.0</td>\n",
              "      <td>55.0</td>\n",
              "      <td>1021.4</td>\n",
              "      <td>7.0</td>\n",
              "      <td>14.6</td>\n",
              "      <td>Yes</td>\n",
              "      <td>No</td>\n",
              "    </tr>\n",
              "    <tr>\n",
              "      <th>6</th>\n",
              "      <td>Mildura</td>\n",
              "      <td>9.7</td>\n",
              "      <td>20.6</td>\n",
              "      <td>0.0</td>\n",
              "      <td>1.0</td>\n",
              "      <td>4.2</td>\n",
              "      <td>WNW</td>\n",
              "      <td>61.0</td>\n",
              "      <td>NW</td>\n",
              "      <td>20.0</td>\n",
              "      <td>35.0</td>\n",
              "      <td>1015.8</td>\n",
              "      <td>7.0</td>\n",
              "      <td>19.5</td>\n",
              "      <td>No</td>\n",
              "      <td>No</td>\n",
              "    </tr>\n",
              "    <tr>\n",
              "      <th>7</th>\n",
              "      <td>Williamtown</td>\n",
              "      <td>17.1</td>\n",
              "      <td>21.9</td>\n",
              "      <td>134.8</td>\n",
              "      <td>NaN</td>\n",
              "      <td>0.0</td>\n",
              "      <td>SSE</td>\n",
              "      <td>54.0</td>\n",
              "      <td>SSE</td>\n",
              "      <td>28.0</td>\n",
              "      <td>99.0</td>\n",
              "      <td>1012.0</td>\n",
              "      <td>8.0</td>\n",
              "      <td>17.9</td>\n",
              "      <td>Yes</td>\n",
              "      <td>Yes</td>\n",
              "    </tr>\n",
              "    <tr>\n",
              "      <th>8</th>\n",
              "      <td>Watsonia</td>\n",
              "      <td>13.5</td>\n",
              "      <td>23.5</td>\n",
              "      <td>0.0</td>\n",
              "      <td>6.8</td>\n",
              "      <td>6.5</td>\n",
              "      <td>NW</td>\n",
              "      <td>46.0</td>\n",
              "      <td>NE</td>\n",
              "      <td>19.0</td>\n",
              "      <td>53.0</td>\n",
              "      <td>1018.2</td>\n",
              "      <td>6.0</td>\n",
              "      <td>22.2</td>\n",
              "      <td>No</td>\n",
              "      <td>Yes</td>\n",
              "    </tr>\n",
              "    <tr>\n",
              "      <th>9</th>\n",
              "      <td>Nhil</td>\n",
              "      <td>12.5</td>\n",
              "      <td>21.3</td>\n",
              "      <td>0.0</td>\n",
              "      <td>NaN</td>\n",
              "      <td>NaN</td>\n",
              "      <td>W</td>\n",
              "      <td>65.0</td>\n",
              "      <td>W</td>\n",
              "      <td>22.0</td>\n",
              "      <td>82.0</td>\n",
              "      <td>1002.6</td>\n",
              "      <td>NaN</td>\n",
              "      <td>13.1</td>\n",
              "      <td>No</td>\n",
              "      <td>Yes</td>\n",
              "    </tr>\n",
              "  </tbody>\n",
              "</table>\n",
              "</div>"
            ],
            "text/plain": [
              "           Location  MinTemp  MaxTemp  ...  Temp  RainToday  RainTomorrow\n",
              "0         NorahHead     18.9     23.7  ...  22.4         No           Yes\n",
              "1         Nuriootpa     11.1     20.8  ...  19.5         No            No\n",
              "2         GoldCoast     15.9     19.5  ...  17.8        Yes           Yes\n",
              "3           Bendigo      0.0     14.9  ...  14.2         No           Yes\n",
              "4           Walpole      9.1     22.7  ...  22.5         No            No\n",
              "5  MelbourneAirport      6.6     16.3  ...  14.6        Yes            No\n",
              "6           Mildura      9.7     20.6  ...  19.5         No            No\n",
              "7       Williamtown     17.1     21.9  ...  17.9        Yes           Yes\n",
              "8          Watsonia     13.5     23.5  ...  22.2         No           Yes\n",
              "9              Nhil     12.5     21.3  ...  13.1         No           Yes\n",
              "\n",
              "[10 rows x 16 columns]"
            ]
          },
          "metadata": {
            "tags": []
          },
          "execution_count": 174
        }
      ]
    },
    {
      "cell_type": "code",
      "metadata": {
        "id": "zk0z5Ee6i_Ml",
        "colab_type": "code",
        "colab": {
          "base_uri": "https://localhost:8080/",
          "height": 302
        },
        "outputId": "99398faf-a540-4a96-e53e-a5f8c0c8149d"
      },
      "source": [
        "df_train.isna().sum()"
      ],
      "execution_count": 175,
      "outputs": [
        {
          "output_type": "execute_result",
          "data": {
            "text/plain": [
              "Location             0\n",
              "MinTemp            284\n",
              "MaxTemp            129\n",
              "Rainfall           747\n",
              "Evaporation      22553\n",
              "Sunshine         24875\n",
              "WindGustDir       3598\n",
              "WindGustSpeed     3571\n",
              "WindDir           1513\n",
              "WindSpeed         1024\n",
              "Humidity          1429\n",
              "Pressure          5066\n",
              "Cloud            20130\n",
              "Temp              1063\n",
              "RainToday          747\n",
              "RainTomorrow         0\n",
              "dtype: int64"
            ]
          },
          "metadata": {
            "tags": []
          },
          "execution_count": 175
        }
      ]
    },
    {
      "cell_type": "code",
      "metadata": {
        "id": "uOvcn2Fdi_Mn",
        "colab_type": "code",
        "colab": {
          "base_uri": "https://localhost:8080/",
          "height": 302
        },
        "outputId": "40e3fc3c-ce21-46a8-a660-6eaeac591394"
      },
      "source": [
        "df_test.isna().sum()"
      ],
      "execution_count": 176,
      "outputs": [
        {
          "output_type": "execute_result",
          "data": {
            "text/plain": [
              "ID                  0\n",
              "Location            0\n",
              "MinTemp            47\n",
              "MaxTemp            18\n",
              "Rainfall          161\n",
              "Evaporation      5516\n",
              "Sunshine         6094\n",
              "WindGustDir       929\n",
              "WindGustSpeed     920\n",
              "WindDir           387\n",
              "WindSpeed         261\n",
              "Humidity          349\n",
              "Pressure         1293\n",
              "Cloud            5020\n",
              "Temp              267\n",
              "RainToday         161\n",
              "dtype: int64"
            ]
          },
          "metadata": {
            "tags": []
          },
          "execution_count": 176
        }
      ]
    },
    {
      "cell_type": "markdown",
      "metadata": {
        "id": "cBJUe1AJ0o2v",
        "colab_type": "text"
      },
      "source": [
        "### Handling issues with data quality:\n",
        "\n",
        "#### We can see from above result that we have a lot of missing data.\n",
        "#### To deal with numerical missing data, I have grouped each field based on its location and replaced values accordingly. \n",
        "#### If there does not exist any value for a particular location, then I replaced the corresponding field with mean of the whole column."
      ]
    },
    {
      "cell_type": "code",
      "metadata": {
        "id": "tqTnVVEDi_Mq",
        "colab_type": "code",
        "colab": {}
      },
      "source": [
        "def cleanNumericalData(df):\n",
        "    for column in df:\n",
        "        if df[column].dtypes != 'object':\n",
        "            overallMean = df[column].mean()\n",
        "            df[column] = df.groupby(\"Location\")[column].transform(lambda a: a.fillna(overallMean) if np.isnan(a.mean()) else a.fillna(a.mean()))"
      ],
      "execution_count": 0,
      "outputs": []
    },
    {
      "cell_type": "code",
      "metadata": {
        "id": "qiAL508di_Ms",
        "colab_type": "code",
        "colab": {}
      },
      "source": [
        "cleanNumericalData(df_train)"
      ],
      "execution_count": 0,
      "outputs": []
    },
    {
      "cell_type": "code",
      "metadata": {
        "id": "-A5Yne-Hi_Mu",
        "colab_type": "code",
        "colab": {
          "base_uri": "https://localhost:8080/",
          "height": 302
        },
        "outputId": "527a7aa8-62e2-442a-b457-a7e2e5c7505a"
      },
      "source": [
        "df_train.isna().sum()"
      ],
      "execution_count": 179,
      "outputs": [
        {
          "output_type": "execute_result",
          "data": {
            "text/plain": [
              "Location            0\n",
              "MinTemp             0\n",
              "MaxTemp             0\n",
              "Rainfall            0\n",
              "Evaporation         0\n",
              "Sunshine            0\n",
              "WindGustDir      3598\n",
              "WindGustSpeed       0\n",
              "WindDir          1513\n",
              "WindSpeed           0\n",
              "Humidity            0\n",
              "Pressure            0\n",
              "Cloud               0\n",
              "Temp                0\n",
              "RainToday         747\n",
              "RainTomorrow        0\n",
              "dtype: int64"
            ]
          },
          "metadata": {
            "tags": []
          },
          "execution_count": 179
        }
      ]
    },
    {
      "cell_type": "code",
      "metadata": {
        "id": "2KizUOdYi_Mw",
        "colab_type": "code",
        "colab": {}
      },
      "source": [
        "cleanNumericalData(df_test)"
      ],
      "execution_count": 0,
      "outputs": []
    },
    {
      "cell_type": "code",
      "metadata": {
        "id": "iH_d6rybi_Mz",
        "colab_type": "code",
        "colab": {
          "base_uri": "https://localhost:8080/",
          "height": 302
        },
        "outputId": "6851daec-dfa5-4853-d929-c43adc7b44a5"
      },
      "source": [
        "df_test.isna().sum()"
      ],
      "execution_count": 181,
      "outputs": [
        {
          "output_type": "execute_result",
          "data": {
            "text/plain": [
              "ID                 0\n",
              "Location           0\n",
              "MinTemp            0\n",
              "MaxTemp            0\n",
              "Rainfall           0\n",
              "Evaporation        0\n",
              "Sunshine           0\n",
              "WindGustDir      929\n",
              "WindGustSpeed      0\n",
              "WindDir          387\n",
              "WindSpeed          0\n",
              "Humidity           0\n",
              "Pressure           0\n",
              "Cloud              0\n",
              "Temp               0\n",
              "RainToday        161\n",
              "dtype: int64"
            ]
          },
          "metadata": {
            "tags": []
          },
          "execution_count": 181
        }
      ]
    },
    {
      "cell_type": "markdown",
      "metadata": {
        "id": "_YoL0ixS1cJh",
        "colab_type": "text"
      },
      "source": [
        "#### We can observe from above result that we don't have any other missing numerical data.\n",
        "\n",
        "#### Let us explore each of the numerical attributes before proceeding to clean categorical data."
      ]
    },
    {
      "cell_type": "code",
      "metadata": {
        "id": "iSR5_PdBi_M3",
        "colab_type": "code",
        "colab": {
          "base_uri": "https://localhost:8080/",
          "height": 296
        },
        "outputId": "3e369926-176d-4436-d326-9d81a77c8f54"
      },
      "source": [
        "import seaborn as sns\n",
        "sns.distplot(df_train['MinTemp'])"
      ],
      "execution_count": 182,
      "outputs": [
        {
          "output_type": "execute_result",
          "data": {
            "text/plain": [
              "<matplotlib.axes._subplots.AxesSubplot at 0x7ff086368710>"
            ]
          },
          "metadata": {
            "tags": []
          },
          "execution_count": 182
        },
        {
          "output_type": "display_data",
          "data": {
            "image/png": "[encoded data removed]",
            "text/plain": [
              "<Figure size 432x288 with 1 Axes>"
            ]
          },
          "metadata": {
            "tags": []
          }
        }
      ]
    },
    {
      "cell_type": "markdown",
      "metadata": {
        "id": "R5-KHMaM1ziB",
        "colab_type": "text"
      },
      "source": [
        "#### Create bins to get a better visualization!"
      ]
    },
    {
      "cell_type": "code",
      "metadata": {
        "id": "igvo1X4vi_M5",
        "colab_type": "code",
        "colab": {
          "base_uri": "https://localhost:8080/",
          "height": 297
        },
        "outputId": "dd8adaf5-ad14-41ee-ec03-92f31dbe26e6"
      },
      "source": [
        "sns.distplot(df_train['MinTemp'], axlabel=\"Minimum Temperature\",bins=10)"
      ],
      "execution_count": 183,
      "outputs": [
        {
          "output_type": "execute_result",
          "data": {
            "text/plain": [
              "<matplotlib.axes._subplots.AxesSubplot at 0x7ff08642b748>"
            ]
          },
          "metadata": {
            "tags": []
          },
          "execution_count": 183
        },
        {
          "output_type": "display_data",
          "data": {
            "image/png": "[encoded data removed]",
            "text/plain": [
              "<Figure size 432x288 with 1 Axes>"
            ]
          },
          "metadata": {
            "tags": []
          }
        }
      ]
    },
    {
      "cell_type": "code",
      "metadata": {
        "id": "lkxJEzTNi_M-",
        "colab_type": "code",
        "colab": {
          "base_uri": "https://localhost:8080/",
          "height": 296
        },
        "outputId": "89b42335-c447-491b-a129-2db312add970"
      },
      "source": [
        "sns.distplot(df_train['MaxTemp'], axlabel=\"Maximum Temperature\", bins=10)"
      ],
      "execution_count": 184,
      "outputs": [
        {
          "output_type": "execute_result",
          "data": {
            "text/plain": [
              "<matplotlib.axes._subplots.AxesSubplot at 0x7ff0865a3160>"
            ]
          },
          "metadata": {
            "tags": []
          },
          "execution_count": 184
        },
        {
          "output_type": "display_data",
          "data": {
            "image/png": "[encoded data removed]",
            "text/plain": [
              "<Figure size 432x288 with 1 Axes>"
            ]
          },
          "metadata": {
            "tags": []
          }
        }
      ]
    },
    {
      "cell_type": "code",
      "metadata": {
        "id": "8TnTrlCDi_NB",
        "colab_type": "code",
        "colab": {
          "base_uri": "https://localhost:8080/",
          "height": 296
        },
        "outputId": "1d59f13c-a85d-4333-ac6b-5003e83824d0"
      },
      "source": [
        "sns.distplot(df_train['Rainfall'], axlabel=\"Rainfall (mm)\", bins=12)"
      ],
      "execution_count": 185,
      "outputs": [
        {
          "output_type": "execute_result",
          "data": {
            "text/plain": [
              "<matplotlib.axes._subplots.AxesSubplot at 0x7ff0842bbd30>"
            ]
          },
          "metadata": {
            "tags": []
          },
          "execution_count": 185
        },
        {
          "output_type": "display_data",
          "data": {
            "image/png": "[encoded data removed]",
            "text/plain": [
              "<Figure size 432x288 with 1 Axes>"
            ]
          },
          "metadata": {
            "tags": []
          }
        }
      ]
    },
    {
      "cell_type": "code",
      "metadata": {
        "id": "M6AwGg0ai_ND",
        "colab_type": "code",
        "colab": {
          "base_uri": "https://localhost:8080/",
          "height": 296
        },
        "outputId": "452a07dc-c4da-424e-cbe2-1e525be66ce8"
      },
      "source": [
        "sns.distplot(df_train['Evaporation'], axlabel=\"Evaporation (mm)\", bins=10)"
      ],
      "execution_count": 186,
      "outputs": [
        {
          "output_type": "execute_result",
          "data": {
            "text/plain": [
              "<matplotlib.axes._subplots.AxesSubplot at 0x7ff084261a90>"
            ]
          },
          "metadata": {
            "tags": []
          },
          "execution_count": 186
        },
        {
          "output_type": "display_data",
          "data": {
            "image/png": "[encoded data removed]",
            "text/plain": [
              "<Figure size 432x288 with 1 Axes>"
            ]
          },
          "metadata": {
            "tags": []
          }
        }
      ]
    },
    {
      "cell_type": "code",
      "metadata": {
        "id": "Ho2onvMti_NF",
        "colab_type": "code",
        "colab": {
          "base_uri": "https://localhost:8080/",
          "height": 296
        },
        "outputId": "4350dd11-b991-4316-a0cb-72bbbb191501"
      },
      "source": [
        "sns.distplot(df_train['Sunshine'], axlabel=\"Sunshine (hours)\", bins=10)"
      ],
      "execution_count": 187,
      "outputs": [
        {
          "output_type": "execute_result",
          "data": {
            "text/plain": [
              "<matplotlib.axes._subplots.AxesSubplot at 0x7ff08416ce80>"
            ]
          },
          "metadata": {
            "tags": []
          },
          "execution_count": 187
        },
        {
          "output_type": "display_data",
          "data": {
            "image/png": "[encoded data removed]",
            "text/plain": [
              "<Figure size 432x288 with 1 Axes>"
            ]
          },
          "metadata": {
            "tags": []
          }
        }
      ]
    },
    {
      "cell_type": "code",
      "metadata": {
        "id": "dusdwYewi_NI",
        "colab_type": "code",
        "colab": {
          "base_uri": "https://localhost:8080/",
          "height": 296
        },
        "outputId": "a953a365-0022-4f79-cfe6-55a37ed90c41"
      },
      "source": [
        "sns.distplot(df_train['WindGustSpeed'], axlabel=\"WindGustSpeed (km/hr)\", bins=10)"
      ],
      "execution_count": 188,
      "outputs": [
        {
          "output_type": "execute_result",
          "data": {
            "text/plain": [
              "<matplotlib.axes._subplots.AxesSubplot at 0x7ff0840f2630>"
            ]
          },
          "metadata": {
            "tags": []
          },
          "execution_count": 188
        },
        {
          "output_type": "display_data",
          "data": {
            "image/png": "[encoded data removed]",
            "text/plain": [
              "<Figure size 432x288 with 1 Axes>"
            ]
          },
          "metadata": {
            "tags": []
          }
        }
      ]
    },
    {
      "cell_type": "code",
      "metadata": {
        "id": "BaTloDb1i_NL",
        "colab_type": "code",
        "colab": {
          "base_uri": "https://localhost:8080/",
          "height": 296
        },
        "outputId": "8267be84-a4a9-4712-dd97-bdc6e4cafe68"
      },
      "source": [
        "sns.distplot(df_train['WindSpeed'], axlabel=\"WindSpeed (km/hr)\", bins=10)"
      ],
      "execution_count": 189,
      "outputs": [
        {
          "output_type": "execute_result",
          "data": {
            "text/plain": [
              "<matplotlib.axes._subplots.AxesSubplot at 0x7ff0840c8eb8>"
            ]
          },
          "metadata": {
            "tags": []
          },
          "execution_count": 189
        },
        {
          "output_type": "display_data",
          "data": {
            "image/png": "[encoded data removed]",
            "text/plain": [
              "<Figure size 432x288 with 1 Axes>"
            ]
          },
          "metadata": {
            "tags": []
          }
        }
      ]
    },
    {
      "cell_type": "code",
      "metadata": {
        "id": "B_9z62lDi_NN",
        "colab_type": "code",
        "colab": {
          "base_uri": "https://localhost:8080/",
          "height": 296
        },
        "outputId": "ddf7f768-b524-4d43-8849-7a1102cc3b8d"
      },
      "source": [
        "sns.distplot(df_train['Humidity'], axlabel=\"Humidity (%)\", bins=10)"
      ],
      "execution_count": 190,
      "outputs": [
        {
          "output_type": "execute_result",
          "data": {
            "text/plain": [
              "<matplotlib.axes._subplots.AxesSubplot at 0x7ff083f8a0f0>"
            ]
          },
          "metadata": {
            "tags": []
          },
          "execution_count": 190
        },
        {
          "output_type": "display_data",
          "data": {
            "image/png": "[encoded data removed]",
            "text/plain": [
              "<Figure size 432x288 with 1 Axes>"
            ]
          },
          "metadata": {
            "tags": []
          }
        }
      ]
    },
    {
      "cell_type": "code",
      "metadata": {
        "id": "nYtq6Zdzi_NQ",
        "colab_type": "code",
        "colab": {
          "base_uri": "https://localhost:8080/",
          "height": 296
        },
        "outputId": "6139a915-9174-4419-b8fa-7b17d5ea9b1f"
      },
      "source": [
        "sns.distplot(df_train['Pressure'], axlabel=\"Atmospheric Pressure (hpa)\", bins=10)"
      ],
      "execution_count": 191,
      "outputs": [
        {
          "output_type": "execute_result",
          "data": {
            "text/plain": [
              "<matplotlib.axes._subplots.AxesSubplot at 0x7ff083f86908>"
            ]
          },
          "metadata": {
            "tags": []
          },
          "execution_count": 191
        },
        {
          "output_type": "display_data",
          "data": {
            "image/png": "[encoded data removed]",
            "text/plain": [
              "<Figure size 432x288 with 1 Axes>"
            ]
          },
          "metadata": {
            "tags": []
          }
        }
      ]
    },
    {
      "cell_type": "code",
      "metadata": {
        "id": "43omHlGti_NS",
        "colab_type": "code",
        "colab": {
          "base_uri": "https://localhost:8080/",
          "height": 300
        },
        "outputId": "3657352f-c195-467e-9af8-e1b7657a791a"
      },
      "source": [
        "sns.distplot(df_train['Cloud'], axlabel=\"Cloud (oktas)\", bins=10)"
      ],
      "execution_count": 192,
      "outputs": [
        {
          "output_type": "execute_result",
          "data": {
            "text/plain": [
              "<matplotlib.axes._subplots.AxesSubplot at 0x7ff083f30908>"
            ]
          },
          "metadata": {
            "tags": []
          },
          "execution_count": 192
        },
        {
          "output_type": "display_data",
          "data": {
            "image/png": "[encoded data removed]",
            "text/plain": [
              "<Figure size 432x288 with 1 Axes>"
            ]
          },
          "metadata": {
            "tags": []
          }
        }
      ]
    },
    {
      "cell_type": "code",
      "metadata": {
        "id": "qrPfidOzi_NU",
        "colab_type": "code",
        "colab": {
          "base_uri": "https://localhost:8080/",
          "height": 296
        },
        "outputId": "0ffab63b-9c31-4f68-9c1f-d2e96b0975ce"
      },
      "source": [
        "sns.distplot(df_train['Temp'], axlabel=\"Temperature (degree C)\", bins=10)"
      ],
      "execution_count": 193,
      "outputs": [
        {
          "output_type": "execute_result",
          "data": {
            "text/plain": [
              "<matplotlib.axes._subplots.AxesSubplot at 0x7ff083ec65c0>"
            ]
          },
          "metadata": {
            "tags": []
          },
          "execution_count": 193
        },
        {
          "output_type": "display_data",
          "data": {
            "image/png": "[encoded data removed]",
            "text/plain": [
              "<Figure size 432x288 with 1 Axes>"
            ]
          },
          "metadata": {
            "tags": []
          }
        }
      ]
    },
    {
      "cell_type": "markdown",
      "metadata": {
        "id": "-8cBQBkO2Bu6",
        "colab_type": "text"
      },
      "source": [
        "#### For categorical attributes, we have 12 distinct values in WindGustDir and WindDir individually. We could perform one hot encoding, but that would result in 24 additional columns.\n",
        "\n",
        "#### Thus, deleting categorical attributes for these 2 columns.\n",
        "\n",
        "\n",
        "#### For RainToday attribute, I am replacing the Nulls with mode RainToday value."
      ]
    },
    {
      "cell_type": "code",
      "metadata": {
        "id": "nCANIMLKi_NX",
        "colab_type": "code",
        "colab": {}
      },
      "source": [
        "df_train.drop(labels=['WindGustDir', 'WindDir'], axis=1, inplace=True)\n",
        "df_test.drop(labels=['WindGustDir', 'WindDir'], axis=1, inplace=True)\n"
      ],
      "execution_count": 0,
      "outputs": []
    },
    {
      "cell_type": "code",
      "metadata": {
        "id": "3P8eUdiIi_NZ",
        "colab_type": "code",
        "colab": {}
      },
      "source": [
        "overallMode = df_train['RainToday'].mode()"
      ],
      "execution_count": 0,
      "outputs": []
    },
    {
      "cell_type": "code",
      "metadata": {
        "id": "PfHoAutWi_Nc",
        "colab_type": "code",
        "colab": {}
      },
      "source": [
        "df_train['RainToday'] = df_train['RainToday'].fillna(overallMode[0])"
      ],
      "execution_count": 0,
      "outputs": []
    },
    {
      "cell_type": "code",
      "metadata": {
        "id": "jFWDWYXTi_Ne",
        "colab_type": "code",
        "colab": {
          "base_uri": "https://localhost:8080/",
          "height": 269
        },
        "outputId": "25ea5999-3a2e-4f53-e758-0880ed5cb0cd"
      },
      "source": [
        "df_train.isna().sum()"
      ],
      "execution_count": 197,
      "outputs": [
        {
          "output_type": "execute_result",
          "data": {
            "text/plain": [
              "Location         0\n",
              "MinTemp          0\n",
              "MaxTemp          0\n",
              "Rainfall         0\n",
              "Evaporation      0\n",
              "Sunshine         0\n",
              "WindGustSpeed    0\n",
              "WindSpeed        0\n",
              "Humidity         0\n",
              "Pressure         0\n",
              "Cloud            0\n",
              "Temp             0\n",
              "RainToday        0\n",
              "RainTomorrow     0\n",
              "dtype: int64"
            ]
          },
          "metadata": {
            "tags": []
          },
          "execution_count": 197
        }
      ]
    },
    {
      "cell_type": "code",
      "metadata": {
        "id": "Vg5D6pZri_Ng",
        "colab_type": "code",
        "colab": {
          "base_uri": "https://localhost:8080/",
          "height": 269
        },
        "outputId": "052050cd-64e4-4948-9889-98632008c9f3"
      },
      "source": [
        "df_test.isna().sum()"
      ],
      "execution_count": 198,
      "outputs": [
        {
          "output_type": "execute_result",
          "data": {
            "text/plain": [
              "ID                 0\n",
              "Location           0\n",
              "MinTemp            0\n",
              "MaxTemp            0\n",
              "Rainfall           0\n",
              "Evaporation        0\n",
              "Sunshine           0\n",
              "WindGustSpeed      0\n",
              "WindSpeed          0\n",
              "Humidity           0\n",
              "Pressure           0\n",
              "Cloud              0\n",
              "Temp               0\n",
              "RainToday        161\n",
              "dtype: int64"
            ]
          },
          "metadata": {
            "tags": []
          },
          "execution_count": 198
        }
      ]
    },
    {
      "cell_type": "code",
      "metadata": {
        "id": "sSLt55qzi_Ni",
        "colab_type": "code",
        "colab": {}
      },
      "source": [
        "overallModeTest = df_test['RainToday'].mode()\n"
      ],
      "execution_count": 0,
      "outputs": []
    },
    {
      "cell_type": "code",
      "metadata": {
        "id": "7c2hFqUCi_Nk",
        "colab_type": "code",
        "colab": {}
      },
      "source": [
        "df_test['RainToday'] = df_test['RainToday'].fillna(overallModeTest[0])"
      ],
      "execution_count": 0,
      "outputs": []
    },
    {
      "cell_type": "code",
      "metadata": {
        "id": "xiLpXgJ9i_Nm",
        "colab_type": "code",
        "colab": {
          "base_uri": "https://localhost:8080/",
          "height": 269
        },
        "outputId": "ebd15488-7231-45f4-aea6-f3fdbd634d0c"
      },
      "source": [
        "df_test.isna().sum()"
      ],
      "execution_count": 201,
      "outputs": [
        {
          "output_type": "execute_result",
          "data": {
            "text/plain": [
              "ID               0\n",
              "Location         0\n",
              "MinTemp          0\n",
              "MaxTemp          0\n",
              "Rainfall         0\n",
              "Evaporation      0\n",
              "Sunshine         0\n",
              "WindGustSpeed    0\n",
              "WindSpeed        0\n",
              "Humidity         0\n",
              "Pressure         0\n",
              "Cloud            0\n",
              "Temp             0\n",
              "RainToday        0\n",
              "dtype: int64"
            ]
          },
          "metadata": {
            "tags": []
          },
          "execution_count": 201
        }
      ]
    },
    {
      "cell_type": "markdown",
      "metadata": {
        "id": "kH9QnyEF3GEC",
        "colab_type": "text"
      },
      "source": [
        "#### As you can see from above result, all our missing values are handled.\n",
        "\n",
        "#### However, to perform clustering, we need numerical data, and so we need to convert attributes RainToday & RainTomorrow to numerical form. I used LabelBinarizer to do the above task - which converts Yes to 1 and No to 0.\n",
        "\n",
        "#### Also, since location is no more useful, we can drop location attribute."
      ]
    },
    {
      "cell_type": "code",
      "metadata": {
        "id": "2IXYTo4pi_No",
        "colab_type": "code",
        "colab": {
          "base_uri": "https://localhost:8080/",
          "height": 343
        },
        "outputId": "267abcda-7e7a-40b0-a68a-921222a355a9"
      },
      "source": [
        "lb = LabelBinarizer()\n",
        "df_train['RainToday'] = lb.fit_transform(df_train['RainToday'])\n",
        "df_train['RainTomorrow'] = lb.fit_transform(df_train['RainTomorrow'])\n",
        "df_test['RainToday'] = lb.fit_transform(df_test['RainToday'])\n",
        "\n",
        "df_train.head(10)"
      ],
      "execution_count": 202,
      "outputs": [
        {
          "output_type": "execute_result",
          "data": {
            "text/html": [
              "<div>\n",
              "<style scoped>\n",
              "    .dataframe tbody tr th:only-of-type {\n",
              "        vertical-align: middle;\n",
              "    }\n",
              "\n",
              "    .dataframe tbody tr th {\n",
              "        vertical-align: top;\n",
              "    }\n",
              "\n",
              "    .dataframe thead th {\n",
              "        text-align: right;\n",
              "    }\n",
              "</style>\n",
              "<table border=\"1\" class=\"dataframe\">\n",
              "  <thead>\n",
              "    <tr style=\"text-align: right;\">\n",
              "      <th></th>\n",
              "      <th>Location</th>\n",
              "      <th>MinTemp</th>\n",
              "      <th>MaxTemp</th>\n",
              "      <th>Rainfall</th>\n",
              "      <th>Evaporation</th>\n",
              "      <th>Sunshine</th>\n",
              "      <th>WindGustSpeed</th>\n",
              "      <th>WindSpeed</th>\n",
              "      <th>Humidity</th>\n",
              "      <th>Pressure</th>\n",
              "      <th>Cloud</th>\n",
              "      <th>Temp</th>\n",
              "      <th>RainToday</th>\n",
              "      <th>RainTomorrow</th>\n",
              "    </tr>\n",
              "  </thead>\n",
              "  <tbody>\n",
              "    <tr>\n",
              "      <th>0</th>\n",
              "      <td>NorahHead</td>\n",
              "      <td>18.9</td>\n",
              "      <td>23.7</td>\n",
              "      <td>0.0</td>\n",
              "      <td>5.177570</td>\n",
              "      <td>6.53058</td>\n",
              "      <td>41.0</td>\n",
              "      <td>28.0</td>\n",
              "      <td>55.0</td>\n",
              "      <td>1026.0</td>\n",
              "      <td>5.175647</td>\n",
              "      <td>22.4</td>\n",
              "      <td>0</td>\n",
              "      <td>1</td>\n",
              "    </tr>\n",
              "    <tr>\n",
              "      <th>1</th>\n",
              "      <td>Nuriootpa</td>\n",
              "      <td>11.1</td>\n",
              "      <td>20.8</td>\n",
              "      <td>0.0</td>\n",
              "      <td>4.800000</td>\n",
              "      <td>8.30000</td>\n",
              "      <td>39.0</td>\n",
              "      <td>26.0</td>\n",
              "      <td>48.0</td>\n",
              "      <td>1014.4</td>\n",
              "      <td>7.000000</td>\n",
              "      <td>19.5</td>\n",
              "      <td>0</td>\n",
              "      <td>0</td>\n",
              "    </tr>\n",
              "    <tr>\n",
              "      <th>2</th>\n",
              "      <td>GoldCoast</td>\n",
              "      <td>15.9</td>\n",
              "      <td>19.5</td>\n",
              "      <td>17.6</td>\n",
              "      <td>5.177570</td>\n",
              "      <td>6.53058</td>\n",
              "      <td>44.0</td>\n",
              "      <td>9.0</td>\n",
              "      <td>99.0</td>\n",
              "      <td>1028.5</td>\n",
              "      <td>5.175647</td>\n",
              "      <td>17.8</td>\n",
              "      <td>1</td>\n",
              "      <td>1</td>\n",
              "    </tr>\n",
              "    <tr>\n",
              "      <th>3</th>\n",
              "      <td>Bendigo</td>\n",
              "      <td>0.0</td>\n",
              "      <td>14.9</td>\n",
              "      <td>0.0</td>\n",
              "      <td>3.697044</td>\n",
              "      <td>6.53058</td>\n",
              "      <td>35.0</td>\n",
              "      <td>19.0</td>\n",
              "      <td>55.0</td>\n",
              "      <td>1023.0</td>\n",
              "      <td>4.000000</td>\n",
              "      <td>14.2</td>\n",
              "      <td>0</td>\n",
              "      <td>1</td>\n",
              "    </tr>\n",
              "    <tr>\n",
              "      <th>4</th>\n",
              "      <td>Walpole</td>\n",
              "      <td>9.1</td>\n",
              "      <td>22.7</td>\n",
              "      <td>0.0</td>\n",
              "      <td>5.177570</td>\n",
              "      <td>6.53058</td>\n",
              "      <td>41.0</td>\n",
              "      <td>7.0</td>\n",
              "      <td>40.0</td>\n",
              "      <td>1027.1</td>\n",
              "      <td>5.175647</td>\n",
              "      <td>22.5</td>\n",
              "      <td>0</td>\n",
              "      <td>0</td>\n",
              "    </tr>\n",
              "    <tr>\n",
              "      <th>5</th>\n",
              "      <td>MelbourneAirport</td>\n",
              "      <td>6.6</td>\n",
              "      <td>16.3</td>\n",
              "      <td>8.4</td>\n",
              "      <td>3.400000</td>\n",
              "      <td>6.90000</td>\n",
              "      <td>50.0</td>\n",
              "      <td>30.0</td>\n",
              "      <td>55.0</td>\n",
              "      <td>1021.4</td>\n",
              "      <td>7.000000</td>\n",
              "      <td>14.6</td>\n",
              "      <td>1</td>\n",
              "      <td>0</td>\n",
              "    </tr>\n",
              "    <tr>\n",
              "      <th>6</th>\n",
              "      <td>Mildura</td>\n",
              "      <td>9.7</td>\n",
              "      <td>20.6</td>\n",
              "      <td>0.0</td>\n",
              "      <td>1.000000</td>\n",
              "      <td>4.20000</td>\n",
              "      <td>61.0</td>\n",
              "      <td>20.0</td>\n",
              "      <td>35.0</td>\n",
              "      <td>1015.8</td>\n",
              "      <td>7.000000</td>\n",
              "      <td>19.5</td>\n",
              "      <td>0</td>\n",
              "      <td>0</td>\n",
              "    </tr>\n",
              "    <tr>\n",
              "      <th>7</th>\n",
              "      <td>Williamtown</td>\n",
              "      <td>17.1</td>\n",
              "      <td>21.9</td>\n",
              "      <td>134.8</td>\n",
              "      <td>6.471171</td>\n",
              "      <td>0.00000</td>\n",
              "      <td>54.0</td>\n",
              "      <td>28.0</td>\n",
              "      <td>99.0</td>\n",
              "      <td>1012.0</td>\n",
              "      <td>8.000000</td>\n",
              "      <td>17.9</td>\n",
              "      <td>1</td>\n",
              "      <td>1</td>\n",
              "    </tr>\n",
              "    <tr>\n",
              "      <th>8</th>\n",
              "      <td>Watsonia</td>\n",
              "      <td>13.5</td>\n",
              "      <td>23.5</td>\n",
              "      <td>0.0</td>\n",
              "      <td>6.800000</td>\n",
              "      <td>6.50000</td>\n",
              "      <td>46.0</td>\n",
              "      <td>19.0</td>\n",
              "      <td>53.0</td>\n",
              "      <td>1018.2</td>\n",
              "      <td>6.000000</td>\n",
              "      <td>22.2</td>\n",
              "      <td>0</td>\n",
              "      <td>1</td>\n",
              "    </tr>\n",
              "    <tr>\n",
              "      <th>9</th>\n",
              "      <td>Nhil</td>\n",
              "      <td>12.5</td>\n",
              "      <td>21.3</td>\n",
              "      <td>0.0</td>\n",
              "      <td>5.177570</td>\n",
              "      <td>6.53058</td>\n",
              "      <td>65.0</td>\n",
              "      <td>22.0</td>\n",
              "      <td>82.0</td>\n",
              "      <td>1002.6</td>\n",
              "      <td>5.175647</td>\n",
              "      <td>13.1</td>\n",
              "      <td>0</td>\n",
              "      <td>1</td>\n",
              "    </tr>\n",
              "  </tbody>\n",
              "</table>\n",
              "</div>"
            ],
            "text/plain": [
              "           Location  MinTemp  MaxTemp  ...  Temp  RainToday  RainTomorrow\n",
              "0         NorahHead     18.9     23.7  ...  22.4          0             1\n",
              "1         Nuriootpa     11.1     20.8  ...  19.5          0             0\n",
              "2         GoldCoast     15.9     19.5  ...  17.8          1             1\n",
              "3           Bendigo      0.0     14.9  ...  14.2          0             1\n",
              "4           Walpole      9.1     22.7  ...  22.5          0             0\n",
              "5  MelbourneAirport      6.6     16.3  ...  14.6          1             0\n",
              "6           Mildura      9.7     20.6  ...  19.5          0             0\n",
              "7       Williamtown     17.1     21.9  ...  17.9          1             1\n",
              "8          Watsonia     13.5     23.5  ...  22.2          0             1\n",
              "9              Nhil     12.5     21.3  ...  13.1          0             1\n",
              "\n",
              "[10 rows x 14 columns]"
            ]
          },
          "metadata": {
            "tags": []
          },
          "execution_count": 202
        }
      ]
    },
    {
      "cell_type": "code",
      "metadata": {
        "id": "2gZbTHaDi_Nq",
        "colab_type": "code",
        "colab": {
          "base_uri": "https://localhost:8080/",
          "height": 343
        },
        "outputId": "1f35e4f4-c723-4d2c-e69e-9c40d525beea"
      },
      "source": [
        "df_test.head(10)"
      ],
      "execution_count": 203,
      "outputs": [
        {
          "output_type": "execute_result",
          "data": {
            "text/html": [
              "<div>\n",
              "<style scoped>\n",
              "    .dataframe tbody tr th:only-of-type {\n",
              "        vertical-align: middle;\n",
              "    }\n",
              "\n",
              "    .dataframe tbody tr th {\n",
              "        vertical-align: top;\n",
              "    }\n",
              "\n",
              "    .dataframe thead th {\n",
              "        text-align: right;\n",
              "    }\n",
              "</style>\n",
              "<table border=\"1\" class=\"dataframe\">\n",
              "  <thead>\n",
              "    <tr style=\"text-align: right;\">\n",
              "      <th></th>\n",
              "      <th>ID</th>\n",
              "      <th>Location</th>\n",
              "      <th>MinTemp</th>\n",
              "      <th>MaxTemp</th>\n",
              "      <th>Rainfall</th>\n",
              "      <th>Evaporation</th>\n",
              "      <th>Sunshine</th>\n",
              "      <th>WindGustSpeed</th>\n",
              "      <th>WindSpeed</th>\n",
              "      <th>Humidity</th>\n",
              "      <th>Pressure</th>\n",
              "      <th>Cloud</th>\n",
              "      <th>Temp</th>\n",
              "      <th>RainToday</th>\n",
              "    </tr>\n",
              "  </thead>\n",
              "  <tbody>\n",
              "    <tr>\n",
              "      <th>0</th>\n",
              "      <td>1</td>\n",
              "      <td>Perth</td>\n",
              "      <td>15.3</td>\n",
              "      <td>21.5</td>\n",
              "      <td>4.4</td>\n",
              "      <td>2.40000</td>\n",
              "      <td>1.400000</td>\n",
              "      <td>70.0</td>\n",
              "      <td>22.0</td>\n",
              "      <td>69.0</td>\n",
              "      <td>997.6</td>\n",
              "      <td>7.000000</td>\n",
              "      <td>19.8</td>\n",
              "      <td>1</td>\n",
              "    </tr>\n",
              "    <tr>\n",
              "      <th>1</th>\n",
              "      <td>2</td>\n",
              "      <td>Portland</td>\n",
              "      <td>7.1</td>\n",
              "      <td>11.0</td>\n",
              "      <td>38.8</td>\n",
              "      <td>1.20000</td>\n",
              "      <td>5.800000</td>\n",
              "      <td>48.0</td>\n",
              "      <td>19.0</td>\n",
              "      <td>46.0</td>\n",
              "      <td>1014.0</td>\n",
              "      <td>4.000000</td>\n",
              "      <td>10.7</td>\n",
              "      <td>1</td>\n",
              "    </tr>\n",
              "    <tr>\n",
              "      <th>2</th>\n",
              "      <td>3</td>\n",
              "      <td>Hobart</td>\n",
              "      <td>3.6</td>\n",
              "      <td>16.6</td>\n",
              "      <td>0.2</td>\n",
              "      <td>2.80000</td>\n",
              "      <td>9.300000</td>\n",
              "      <td>37.0</td>\n",
              "      <td>15.0</td>\n",
              "      <td>48.0</td>\n",
              "      <td>1016.6</td>\n",
              "      <td>5.000000</td>\n",
              "      <td>15.4</td>\n",
              "      <td>0</td>\n",
              "    </tr>\n",
              "    <tr>\n",
              "      <th>3</th>\n",
              "      <td>4</td>\n",
              "      <td>Woomera</td>\n",
              "      <td>17.6</td>\n",
              "      <td>37.4</td>\n",
              "      <td>0.0</td>\n",
              "      <td>34.00000</td>\n",
              "      <td>8.340426</td>\n",
              "      <td>37.0</td>\n",
              "      <td>19.0</td>\n",
              "      <td>11.0</td>\n",
              "      <td>1010.4</td>\n",
              "      <td>2.000000</td>\n",
              "      <td>34.6</td>\n",
              "      <td>0</td>\n",
              "    </tr>\n",
              "    <tr>\n",
              "      <th>4</th>\n",
              "      <td>5</td>\n",
              "      <td>Townsville</td>\n",
              "      <td>11.4</td>\n",
              "      <td>25.6</td>\n",
              "      <td>0.0</td>\n",
              "      <td>6.00000</td>\n",
              "      <td>2.800000</td>\n",
              "      <td>31.0</td>\n",
              "      <td>13.0</td>\n",
              "      <td>52.0</td>\n",
              "      <td>1016.4</td>\n",
              "      <td>7.000000</td>\n",
              "      <td>24.3</td>\n",
              "      <td>0</td>\n",
              "    </tr>\n",
              "    <tr>\n",
              "      <th>5</th>\n",
              "      <td>6</td>\n",
              "      <td>Nuriootpa</td>\n",
              "      <td>4.4</td>\n",
              "      <td>13.0</td>\n",
              "      <td>0.4</td>\n",
              "      <td>1.80000</td>\n",
              "      <td>5.100000</td>\n",
              "      <td>39.0</td>\n",
              "      <td>17.0</td>\n",
              "      <td>69.0</td>\n",
              "      <td>1013.6</td>\n",
              "      <td>6.000000</td>\n",
              "      <td>11.3</td>\n",
              "      <td>0</td>\n",
              "    </tr>\n",
              "    <tr>\n",
              "      <th>6</th>\n",
              "      <td>7</td>\n",
              "      <td>Watsonia</td>\n",
              "      <td>12.4</td>\n",
              "      <td>22.4</td>\n",
              "      <td>0.6</td>\n",
              "      <td>3.20000</td>\n",
              "      <td>4.800000</td>\n",
              "      <td>20.0</td>\n",
              "      <td>4.0</td>\n",
              "      <td>57.0</td>\n",
              "      <td>1020.8</td>\n",
              "      <td>3.000000</td>\n",
              "      <td>21.6</td>\n",
              "      <td>0</td>\n",
              "    </tr>\n",
              "    <tr>\n",
              "      <th>7</th>\n",
              "      <td>8</td>\n",
              "      <td>Watsonia</td>\n",
              "      <td>8.3</td>\n",
              "      <td>14.1</td>\n",
              "      <td>1.0</td>\n",
              "      <td>2.40000</td>\n",
              "      <td>7.100000</td>\n",
              "      <td>56.0</td>\n",
              "      <td>22.0</td>\n",
              "      <td>58.0</td>\n",
              "      <td>1021.1</td>\n",
              "      <td>7.000000</td>\n",
              "      <td>13.6</td>\n",
              "      <td>0</td>\n",
              "    </tr>\n",
              "    <tr>\n",
              "      <th>8</th>\n",
              "      <td>9</td>\n",
              "      <td>Moree</td>\n",
              "      <td>22.8</td>\n",
              "      <td>38.6</td>\n",
              "      <td>0.0</td>\n",
              "      <td>12.00000</td>\n",
              "      <td>9.300000</td>\n",
              "      <td>54.0</td>\n",
              "      <td>11.0</td>\n",
              "      <td>31.0</td>\n",
              "      <td>1001.7</td>\n",
              "      <td>6.000000</td>\n",
              "      <td>37.1</td>\n",
              "      <td>0</td>\n",
              "    </tr>\n",
              "    <tr>\n",
              "      <th>9</th>\n",
              "      <td>10</td>\n",
              "      <td>Albury</td>\n",
              "      <td>18.0</td>\n",
              "      <td>26.9</td>\n",
              "      <td>0.2</td>\n",
              "      <td>5.14893</td>\n",
              "      <td>6.577928</td>\n",
              "      <td>46.0</td>\n",
              "      <td>22.0</td>\n",
              "      <td>31.0</td>\n",
              "      <td>1005.2</td>\n",
              "      <td>6.131737</td>\n",
              "      <td>25.9</td>\n",
              "      <td>0</td>\n",
              "    </tr>\n",
              "  </tbody>\n",
              "</table>\n",
              "</div>"
            ],
            "text/plain": [
              "   ID    Location  MinTemp  MaxTemp  ...  Pressure     Cloud  Temp  RainToday\n",
              "0   1       Perth     15.3     21.5  ...     997.6  7.000000  19.8          1\n",
              "1   2    Portland      7.1     11.0  ...    1014.0  4.000000  10.7          1\n",
              "2   3      Hobart      3.6     16.6  ...    1016.6  5.000000  15.4          0\n",
              "3   4     Woomera     17.6     37.4  ...    1010.4  2.000000  34.6          0\n",
              "4   5  Townsville     11.4     25.6  ...    1016.4  7.000000  24.3          0\n",
              "5   6   Nuriootpa      4.4     13.0  ...    1013.6  6.000000  11.3          0\n",
              "6   7    Watsonia     12.4     22.4  ...    1020.8  3.000000  21.6          0\n",
              "7   8    Watsonia      8.3     14.1  ...    1021.1  7.000000  13.6          0\n",
              "8   9       Moree     22.8     38.6  ...    1001.7  6.000000  37.1          0\n",
              "9  10      Albury     18.0     26.9  ...    1005.2  6.131737  25.9          0\n",
              "\n",
              "[10 rows x 14 columns]"
            ]
          },
          "metadata": {
            "tags": []
          },
          "execution_count": 203
        }
      ]
    },
    {
      "cell_type": "markdown",
      "metadata": {
        "id": "1QhjFdVk3tX2",
        "colab_type": "text"
      },
      "source": [
        "#### Perform data standardization and data normalization"
      ]
    },
    {
      "cell_type": "code",
      "metadata": {
        "id": "Ajdm9aUHi_Ns",
        "colab_type": "code",
        "colab": {}
      },
      "source": [
        "min_max_scaler = preprocessing.MinMaxScaler()"
      ],
      "execution_count": 0,
      "outputs": []
    },
    {
      "cell_type": "code",
      "metadata": {
        "id": "xd4A94OTi_Nt",
        "colab_type": "code",
        "colab": {
          "base_uri": "https://localhost:8080/",
          "height": 218
        },
        "outputId": "95c7e42c-43f0-44c6-c062-71c2fa84628f"
      },
      "source": [
        "df_train['RainToday'].astype(int)\n",
        "df_test['RainToday'].astype(int)\n",
        "df_train['RainTomorrow'].astype(int)\n"
      ],
      "execution_count": 205,
      "outputs": [
        {
          "output_type": "execute_result",
          "data": {
            "text/plain": [
              "0        1\n",
              "1        0\n",
              "2        1\n",
              "3        1\n",
              "4        0\n",
              "        ..\n",
              "51973    1\n",
              "51974    1\n",
              "51975    1\n",
              "51976    0\n",
              "51977    0\n",
              "Name: RainTomorrow, Length: 51978, dtype: int64"
            ]
          },
          "metadata": {
            "tags": []
          },
          "execution_count": 205
        }
      ]
    },
    {
      "cell_type": "code",
      "metadata": {
        "id": "RMORqdNHi_Nv",
        "colab_type": "code",
        "colab": {}
      },
      "source": [
        "df_train.drop(labels=['Location'], axis=1, inplace=True)\n",
        "df_test.drop(labels=['Location'], axis=1, inplace=True)\n",
        "\n",
        "np_scaled_train = min_max_scaler.fit_transform(df_train)\n",
        "np_scaled_test = min_max_scaler.fit_transform(df_test)"
      ],
      "execution_count": 0,
      "outputs": []
    },
    {
      "cell_type": "code",
      "metadata": {
        "id": "pDV5NH-Ii_Nx",
        "colab_type": "code",
        "colab": {}
      },
      "source": [
        "df_normalized_train = pd.DataFrame(np_scaled_train, columns=df_train.columns, index=df_train.index)\n",
        "df_normalized_test = pd.DataFrame(np_scaled_test, columns=df_test.columns, index=df_test.index)"
      ],
      "execution_count": 0,
      "outputs": []
    },
    {
      "cell_type": "code",
      "metadata": {
        "id": "3VA1R4kEi_Ny",
        "colab_type": "code",
        "colab": {
          "base_uri": "https://localhost:8080/",
          "height": 304
        },
        "outputId": "a5abd4a2-fde6-46d4-9cb5-6f0e36311a14"
      },
      "source": [
        "df_normalized_train.describe()"
      ],
      "execution_count": 208,
      "outputs": [
        {
          "output_type": "execute_result",
          "data": {
            "text/html": [
              "<div>\n",
              "<style scoped>\n",
              "    .dataframe tbody tr th:only-of-type {\n",
              "        vertical-align: middle;\n",
              "    }\n",
              "\n",
              "    .dataframe tbody tr th {\n",
              "        vertical-align: top;\n",
              "    }\n",
              "\n",
              "    .dataframe thead th {\n",
              "        text-align: right;\n",
              "    }\n",
              "</style>\n",
              "<table border=\"1\" class=\"dataframe\">\n",
              "  <thead>\n",
              "    <tr style=\"text-align: right;\">\n",
              "      <th></th>\n",
              "      <th>MinTemp</th>\n",
              "      <th>MaxTemp</th>\n",
              "      <th>Rainfall</th>\n",
              "      <th>Evaporation</th>\n",
              "      <th>Sunshine</th>\n",
              "      <th>WindGustSpeed</th>\n",
              "      <th>WindSpeed</th>\n",
              "      <th>Humidity</th>\n",
              "      <th>Pressure</th>\n",
              "      <th>Cloud</th>\n",
              "      <th>Temp</th>\n",
              "      <th>RainToday</th>\n",
              "      <th>RainTomorrow</th>\n",
              "    </tr>\n",
              "  </thead>\n",
              "  <tbody>\n",
              "    <tr>\n",
              "      <th>count</th>\n",
              "      <td>51978.000000</td>\n",
              "      <td>51978.000000</td>\n",
              "      <td>51978.000000</td>\n",
              "      <td>51978.000000</td>\n",
              "      <td>51978.000000</td>\n",
              "      <td>51978.000000</td>\n",
              "      <td>51978.000000</td>\n",
              "      <td>51978.000000</td>\n",
              "      <td>51978.000000</td>\n",
              "      <td>51978.000000</td>\n",
              "      <td>51978.000000</td>\n",
              "      <td>51978.000000</td>\n",
              "      <td>51978.000000</td>\n",
              "    </tr>\n",
              "    <tr>\n",
              "      <th>mean</th>\n",
              "      <td>0.521605</td>\n",
              "      <td>0.520797</td>\n",
              "      <td>0.009815</td>\n",
              "      <td>0.067023</td>\n",
              "      <td>0.451025</td>\n",
              "      <td>0.273638</td>\n",
              "      <td>0.229373</td>\n",
              "      <td>0.571218</td>\n",
              "      <td>0.612215</td>\n",
              "      <td>0.652449</td>\n",
              "      <td>0.500269</td>\n",
              "      <td>0.301801</td>\n",
              "      <td>0.490958</td>\n",
              "    </tr>\n",
              "    <tr>\n",
              "      <th>std</th>\n",
              "      <td>0.161611</td>\n",
              "      <td>0.139092</td>\n",
              "      <td>0.029466</td>\n",
              "      <td>0.039698</td>\n",
              "      <td>0.197575</td>\n",
              "      <td>0.110341</td>\n",
              "      <td>0.109556</td>\n",
              "      <td>0.218155</td>\n",
              "      <td>0.113995</td>\n",
              "      <td>0.260079</td>\n",
              "      <td>0.137575</td>\n",
              "      <td>0.459044</td>\n",
              "      <td>0.499923</td>\n",
              "    </tr>\n",
              "    <tr>\n",
              "      <th>min</th>\n",
              "      <td>0.000000</td>\n",
              "      <td>0.000000</td>\n",
              "      <td>0.000000</td>\n",
              "      <td>0.000000</td>\n",
              "      <td>0.000000</td>\n",
              "      <td>0.000000</td>\n",
              "      <td>0.000000</td>\n",
              "      <td>0.000000</td>\n",
              "      <td>0.000000</td>\n",
              "      <td>0.000000</td>\n",
              "      <td>0.000000</td>\n",
              "      <td>0.000000</td>\n",
              "      <td>0.000000</td>\n",
              "    </tr>\n",
              "    <tr>\n",
              "      <th>25%</th>\n",
              "      <td>0.406091</td>\n",
              "      <td>0.416830</td>\n",
              "      <td>0.000000</td>\n",
              "      <td>0.047827</td>\n",
              "      <td>0.402022</td>\n",
              "      <td>0.187500</td>\n",
              "      <td>0.156627</td>\n",
              "      <td>0.424242</td>\n",
              "      <td>0.540362</td>\n",
              "      <td>0.625000</td>\n",
              "      <td>0.400000</td>\n",
              "      <td>0.000000</td>\n",
              "      <td>0.000000</td>\n",
              "    </tr>\n",
              "    <tr>\n",
              "      <th>50%</th>\n",
              "      <td>0.515228</td>\n",
              "      <td>0.506849</td>\n",
              "      <td>0.000000</td>\n",
              "      <td>0.066980</td>\n",
              "      <td>0.450385</td>\n",
              "      <td>0.265625</td>\n",
              "      <td>0.228916</td>\n",
              "      <td>0.585859</td>\n",
              "      <td>0.612411</td>\n",
              "      <td>0.646956</td>\n",
              "      <td>0.487129</td>\n",
              "      <td>0.000000</td>\n",
              "      <td>0.000000</td>\n",
              "    </tr>\n",
              "    <tr>\n",
              "      <th>75%</th>\n",
              "      <td>0.639594</td>\n",
              "      <td>0.618395</td>\n",
              "      <td>0.006469</td>\n",
              "      <td>0.075032</td>\n",
              "      <td>0.517241</td>\n",
              "      <td>0.335938</td>\n",
              "      <td>0.289157</td>\n",
              "      <td>0.727273</td>\n",
              "      <td>0.683690</td>\n",
              "      <td>0.875000</td>\n",
              "      <td>0.594059</td>\n",
              "      <td>1.000000</td>\n",
              "      <td>1.000000</td>\n",
              "    </tr>\n",
              "    <tr>\n",
              "      <th>max</th>\n",
              "      <td>1.000000</td>\n",
              "      <td>1.000000</td>\n",
              "      <td>1.000000</td>\n",
              "      <td>1.000000</td>\n",
              "      <td>1.000000</td>\n",
              "      <td>1.000000</td>\n",
              "      <td>1.000000</td>\n",
              "      <td>1.000000</td>\n",
              "      <td>1.000000</td>\n",
              "      <td>1.000000</td>\n",
              "      <td>1.000000</td>\n",
              "      <td>1.000000</td>\n",
              "      <td>1.000000</td>\n",
              "    </tr>\n",
              "  </tbody>\n",
              "</table>\n",
              "</div>"
            ],
            "text/plain": [
              "            MinTemp       MaxTemp  ...     RainToday  RainTomorrow\n",
              "count  51978.000000  51978.000000  ...  51978.000000  51978.000000\n",
              "mean       0.521605      0.520797  ...      0.301801      0.490958\n",
              "std        0.161611      0.139092  ...      0.459044      0.499923\n",
              "min        0.000000      0.000000  ...      0.000000      0.000000\n",
              "25%        0.406091      0.416830  ...      0.000000      0.000000\n",
              "50%        0.515228      0.506849  ...      0.000000      0.000000\n",
              "75%        0.639594      0.618395  ...      1.000000      1.000000\n",
              "max        1.000000      1.000000  ...      1.000000      1.000000\n",
              "\n",
              "[8 rows x 13 columns]"
            ]
          },
          "metadata": {
            "tags": []
          },
          "execution_count": 208
        }
      ]
    },
    {
      "cell_type": "code",
      "metadata": {
        "id": "HaiAUwr2i_N1",
        "colab_type": "code",
        "colab": {
          "base_uri": "https://localhost:8080/",
          "height": 304
        },
        "outputId": "52129d20-42e0-4b46-91d9-b119e2d64977"
      },
      "source": [
        "df_normalized_test.describe()"
      ],
      "execution_count": 209,
      "outputs": [
        {
          "output_type": "execute_result",
          "data": {
            "text/html": [
              "<div>\n",
              "<style scoped>\n",
              "    .dataframe tbody tr th:only-of-type {\n",
              "        vertical-align: middle;\n",
              "    }\n",
              "\n",
              "    .dataframe tbody tr th {\n",
              "        vertical-align: top;\n",
              "    }\n",
              "\n",
              "    .dataframe thead th {\n",
              "        text-align: right;\n",
              "    }\n",
              "</style>\n",
              "<table border=\"1\" class=\"dataframe\">\n",
              "  <thead>\n",
              "    <tr style=\"text-align: right;\">\n",
              "      <th></th>\n",
              "      <th>ID</th>\n",
              "      <th>MinTemp</th>\n",
              "      <th>MaxTemp</th>\n",
              "      <th>Rainfall</th>\n",
              "      <th>Evaporation</th>\n",
              "      <th>Sunshine</th>\n",
              "      <th>WindGustSpeed</th>\n",
              "      <th>WindSpeed</th>\n",
              "      <th>Humidity</th>\n",
              "      <th>Pressure</th>\n",
              "      <th>Cloud</th>\n",
              "      <th>Temp</th>\n",
              "      <th>RainToday</th>\n",
              "    </tr>\n",
              "  </thead>\n",
              "  <tbody>\n",
              "    <tr>\n",
              "      <th>count</th>\n",
              "      <td>12994.000000</td>\n",
              "      <td>12994.000000</td>\n",
              "      <td>12994.000000</td>\n",
              "      <td>12994.000000</td>\n",
              "      <td>12994.000000</td>\n",
              "      <td>12994.000000</td>\n",
              "      <td>12994.000000</td>\n",
              "      <td>12994.000000</td>\n",
              "      <td>12994.000000</td>\n",
              "      <td>12994.000000</td>\n",
              "      <td>12994.000000</td>\n",
              "      <td>12994.000000</td>\n",
              "      <td>12994.000000</td>\n",
              "    </tr>\n",
              "    <tr>\n",
              "      <th>mean</th>\n",
              "      <td>0.500000</td>\n",
              "      <td>0.524865</td>\n",
              "      <td>0.517642</td>\n",
              "      <td>0.009938</td>\n",
              "      <td>0.059206</td>\n",
              "      <td>0.470168</td>\n",
              "      <td>0.273829</td>\n",
              "      <td>0.218482</td>\n",
              "      <td>0.568862</td>\n",
              "      <td>0.596288</td>\n",
              "      <td>0.645670</td>\n",
              "      <td>0.496141</td>\n",
              "      <td>0.302447</td>\n",
              "    </tr>\n",
              "    <tr>\n",
              "      <th>std</th>\n",
              "      <td>0.288708</td>\n",
              "      <td>0.176258</td>\n",
              "      <td>0.140236</td>\n",
              "      <td>0.029826</td>\n",
              "      <td>0.035838</td>\n",
              "      <td>0.205745</td>\n",
              "      <td>0.111072</td>\n",
              "      <td>0.105129</td>\n",
              "      <td>0.218424</td>\n",
              "      <td>0.121563</td>\n",
              "      <td>0.262058</td>\n",
              "      <td>0.137890</td>\n",
              "      <td>0.459336</td>\n",
              "    </tr>\n",
              "    <tr>\n",
              "      <th>min</th>\n",
              "      <td>0.000000</td>\n",
              "      <td>0.000000</td>\n",
              "      <td>0.000000</td>\n",
              "      <td>0.000000</td>\n",
              "      <td>0.000000</td>\n",
              "      <td>0.000000</td>\n",
              "      <td>0.000000</td>\n",
              "      <td>0.000000</td>\n",
              "      <td>0.000000</td>\n",
              "      <td>0.000000</td>\n",
              "      <td>0.000000</td>\n",
              "      <td>0.000000</td>\n",
              "      <td>0.000000</td>\n",
              "    </tr>\n",
              "    <tr>\n",
              "      <th>25%</th>\n",
              "      <td>0.250000</td>\n",
              "      <td>0.400552</td>\n",
              "      <td>0.415020</td>\n",
              "      <td>0.000000</td>\n",
              "      <td>0.041763</td>\n",
              "      <td>0.421501</td>\n",
              "      <td>0.187500</td>\n",
              "      <td>0.149425</td>\n",
              "      <td>0.416667</td>\n",
              "      <td>0.521053</td>\n",
              "      <td>0.613994</td>\n",
              "      <td>0.397614</td>\n",
              "      <td>0.000000</td>\n",
              "    </tr>\n",
              "    <tr>\n",
              "      <th>50%</th>\n",
              "      <td>0.500000</td>\n",
              "      <td>0.516575</td>\n",
              "      <td>0.501976</td>\n",
              "      <td>0.000000</td>\n",
              "      <td>0.059732</td>\n",
              "      <td>0.469852</td>\n",
              "      <td>0.265625</td>\n",
              "      <td>0.218391</td>\n",
              "      <td>0.575758</td>\n",
              "      <td>0.596504</td>\n",
              "      <td>0.639249</td>\n",
              "      <td>0.483101</td>\n",
              "      <td>0.000000</td>\n",
              "    </tr>\n",
              "    <tr>\n",
              "      <th>75%</th>\n",
              "      <td>0.750000</td>\n",
              "      <td>0.651934</td>\n",
              "      <td>0.614625</td>\n",
              "      <td>0.006529</td>\n",
              "      <td>0.062645</td>\n",
              "      <td>0.546657</td>\n",
              "      <td>0.335938</td>\n",
              "      <td>0.275862</td>\n",
              "      <td>0.727273</td>\n",
              "      <td>0.671930</td>\n",
              "      <td>0.875000</td>\n",
              "      <td>0.586481</td>\n",
              "      <td>1.000000</td>\n",
              "    </tr>\n",
              "    <tr>\n",
              "      <th>max</th>\n",
              "      <td>1.000000</td>\n",
              "      <td>1.000000</td>\n",
              "      <td>1.000000</td>\n",
              "      <td>1.000000</td>\n",
              "      <td>1.000000</td>\n",
              "      <td>1.000000</td>\n",
              "      <td>1.000000</td>\n",
              "      <td>1.000000</td>\n",
              "      <td>1.000000</td>\n",
              "      <td>1.000000</td>\n",
              "      <td>1.000000</td>\n",
              "      <td>1.000000</td>\n",
              "      <td>1.000000</td>\n",
              "    </tr>\n",
              "  </tbody>\n",
              "</table>\n",
              "</div>"
            ],
            "text/plain": [
              "                 ID       MinTemp  ...          Temp     RainToday\n",
              "count  12994.000000  12994.000000  ...  12994.000000  12994.000000\n",
              "mean       0.500000      0.524865  ...      0.496141      0.302447\n",
              "std        0.288708      0.176258  ...      0.137890      0.459336\n",
              "min        0.000000      0.000000  ...      0.000000      0.000000\n",
              "25%        0.250000      0.400552  ...      0.397614      0.000000\n",
              "50%        0.500000      0.516575  ...      0.483101      0.000000\n",
              "75%        0.750000      0.651934  ...      0.586481      1.000000\n",
              "max        1.000000      1.000000  ...      1.000000      1.000000\n",
              "\n",
              "[8 rows x 13 columns]"
            ]
          },
          "metadata": {
            "tags": []
          },
          "execution_count": 209
        }
      ]
    },
    {
      "cell_type": "markdown",
      "metadata": {
        "id": "h7rAT3ub4bJa",
        "colab_type": "text"
      },
      "source": [
        "## Section 2 - Cluster Analysis & Decision Tree Modeling"
      ]
    },
    {
      "cell_type": "markdown",
      "metadata": {
        "id": "wn8myguI5L_1",
        "colab_type": "text"
      },
      "source": [
        "#### Since we do not have the actual prediction output for testing set, I will initially split the training data in 80-20% to test how the models are performing.\n"
      ]
    },
    {
      "cell_type": "code",
      "metadata": {
        "id": "I1fnCaUNi_N3",
        "colab_type": "code",
        "colab": {}
      },
      "source": [
        "OUTPUT_COL = 'RainTomorrow'\n",
        "df_X = df_train.loc[:, df_train.columns != OUTPUT_COL]\n",
        "df_y = df_train[OUTPUT_COL]\n",
        "\n",
        "df_train_X, df_val_X, df_train_y, df_val_y = train_test_split(df_X, df_y, test_size=0.2, random_state=47)"
      ],
      "execution_count": 0,
      "outputs": []
    },
    {
      "cell_type": "markdown",
      "metadata": {
        "id": "KAvAbAjH5oMC",
        "colab_type": "text"
      },
      "source": [
        "#### In order to use unsupervised learning algorithms like clustering for classifying data, while training - I am creating 2 clusters and finding out majority label from both clusters and that would the final label for that cluster. While testing, I used the above model to add testing data points to above created cluster - if that row falls in the cluster that is labeled as 'Yes' - then it'll be predicted to rain for that row.\n",
        "\n",
        "#### Creating reusable functions below to get majority label and classify data from the 2 clusters (for both Kmeans and HAC)."
      ]
    },
    {
      "cell_type": "code",
      "metadata": {
        "id": "x1WfFKjAlPih",
        "colab_type": "code",
        "colab": {}
      },
      "source": [
        "def get_majority_labels(cluster_labels, df_true_labels):\n",
        "  cluster_0_rain, cluster_0_no_rain = 0, 0\n",
        "  cluster_1_rain, cluster_1_no_rain = 0, 0\n",
        "\n",
        "  for i in range(len(cluster_labels)):\n",
        "    if df_true_labels.iloc[i] == 1:\n",
        "      if cluster_labels[i] == 0:\n",
        "        cluster_0_rain += 1\n",
        "      else:\n",
        "        cluster_1_rain += 1\n",
        "    else:\n",
        "      if cluster_labels[i] == 0:\n",
        "        cluster_0_no_rain += 1\n",
        "      else:\n",
        "        cluster_1_no_rain += 1\n",
        "  cluster_0_majority = 1 if cluster_0_rain > cluster_0_no_rain else 0\n",
        "  cluster_1_majority = 1 if cluster_1_rain > cluster_1_no_rain else 0\n",
        "  return cluster_0_majority, cluster_1_majority\n",
        "\n",
        "\n",
        "def classify_by_cluster(label0, label1, cluster_labels):\n",
        "  class_out = []\n",
        "  for label in cluster_labels:\n",
        "    if label == 0:\n",
        "      class_out.append(label0)\n",
        "    else:\n",
        "      class_out.append(label1)\n",
        "  return class_out"
      ],
      "execution_count": 0,
      "outputs": []
    },
    {
      "cell_type": "code",
      "metadata": {
        "id": "bfdLD2npmVH0",
        "colab_type": "code",
        "colab": {
          "base_uri": "https://localhost:8080/",
          "height": 34
        },
        "outputId": "31d8d34c-e453-4feb-8583-240de90bf4ef"
      },
      "source": [
        "kmeans = KMeans(n_clusters=2, random_state=47).fit(df_train_X)\n",
        "kmeans_label0, kmeans_label1 = get_majority_labels(kmeans.labels_, df_train_y)\n",
        "\n",
        "val_pred_kmeans = classify_by_cluster(kmeans_label0, kmeans_label1, kmeans.predict(df_val_X))\n",
        "print(accuracy_score(df_val_y, val_pred_kmeans))"
      ],
      "execution_count": 212,
      "outputs": [
        {
          "output_type": "stream",
          "text": [
            "0.7213351288957291\n"
          ],
          "name": "stdout"
        }
      ]
    },
    {
      "cell_type": "markdown",
      "metadata": {
        "id": "H2kjQqnhqo-w",
        "colab_type": "text"
      },
      "source": [
        "#### Since we're dealing with Weather forecasting problem, I'll go ahead with measuring Recall for model evaluation, as to predict if it'll rain, we can afford to have False positives. False negatives (predicting that it will not rain, but it ends up raining on that day) is more harmful here.\n",
        "\n",
        "#### Also, it also correct to measure accuracy score as we half almost equal number of Yes and No labels in the training set."
      ]
    },
    {
      "cell_type": "code",
      "metadata": {
        "id": "gjOwy1JDNWMy",
        "colab_type": "code",
        "colab": {
          "base_uri": "https://localhost:8080/",
          "height": 34
        },
        "outputId": "9929ce1c-4114-4d76-8b56-1edac46298dd"
      },
      "source": [
        "print(recall_score(df_val_y, val_pred_kmeans))"
      ],
      "execution_count": 213,
      "outputs": [
        {
          "output_type": "stream",
          "text": [
            "0.7718571146635089\n"
          ],
          "name": "stdout"
        }
      ]
    },
    {
      "cell_type": "markdown",
      "metadata": {
        "id": "-9kpypUY8u5j",
        "colab_type": "text"
      },
      "source": [
        "#### Now that we know our model's accuracy and recall, lets take the complete training dataset and predict weather for testing set."
      ]
    },
    {
      "cell_type": "code",
      "metadata": {
        "id": "zpGFRMhaOIbr",
        "colab_type": "code",
        "colab": {}
      },
      "source": [
        "df_IDs = df_test['ID']\n",
        "df_test_Final = df_test.loc[:, df_test.columns != 'ID']\n",
        "\n",
        "kmeansFinal = KMeans(n_clusters=2, random_state=47).fit(df_X)\n",
        "kmeansF_label0, kmeansF_label1 = get_majority_labels(kmeansFinal.labels_, df_y)\n",
        "\n",
        "val_pred_kmeansFinal = classify_by_cluster(kmeansF_label0, kmeansF_label1, kmeansFinal.predict(df_test_Final))"
      ],
      "execution_count": 0,
      "outputs": []
    },
    {
      "cell_type": "markdown",
      "metadata": {
        "id": "LAx0TbPg84Ow",
        "colab_type": "text"
      },
      "source": [
        "#### HAC"
      ]
    },
    {
      "cell_type": "code",
      "metadata": {
        "id": "U-vvlTCjR2Ac",
        "colab_type": "code",
        "colab": {
          "base_uri": "https://localhost:8080/",
          "height": 34
        },
        "outputId": "5048be42-0f69-4f89-a4a5-f32661de1a28"
      },
      "source": [
        "df_merged = pd.concat([df_train_X, df_val_X])\n",
        "\n",
        "hac = AgglomerativeClustering(n_clusters=2).fit(df_merged)\n",
        "hac_labels = hac.labels_\n",
        "hac_labels_train = hac_labels[:len(df_train_X)]\n",
        "hac_label0, hac_label1 = get_majority_labels(hac_labels_train, df_train_y)\n",
        "\n",
        "hac_labels_val = hac_labels[-len(df_val_X):]\n",
        "val_pred_hac = classify_by_cluster(hac_label0, hac_label1, hac_labels_val)\n",
        "print(accuracy_score(df_val_y, val_pred_hac))"
      ],
      "execution_count": 215,
      "outputs": [
        {
          "output_type": "stream",
          "text": [
            "0.5980184686417853\n"
          ],
          "name": "stdout"
        }
      ]
    },
    {
      "cell_type": "code",
      "metadata": {
        "id": "LV8uO5SMUDJP",
        "colab_type": "code",
        "colab": {
          "base_uri": "https://localhost:8080/",
          "height": 34
        },
        "outputId": "a802ed3d-d095-4899-a4ab-259e2e3d4e6c"
      },
      "source": [
        "print(recall_score(df_val_y, val_pred_hac))"
      ],
      "execution_count": 216,
      "outputs": [
        {
          "output_type": "stream",
          "text": [
            "0.9301361752516282\n"
          ],
          "name": "stdout"
        }
      ]
    },
    {
      "cell_type": "markdown",
      "metadata": {
        "id": "JdQ5K3_C89Ah",
        "colab_type": "text"
      },
      "source": [
        "#### Predict for testing set using HAC"
      ]
    },
    {
      "cell_type": "code",
      "metadata": {
        "id": "-BkoFMmFUTRP",
        "colab_type": "code",
        "colab": {}
      },
      "source": [
        "df_merged = pd.concat([df_train_X, df_val_X])\n",
        "\n",
        "hac = AgglomerativeClustering(n_clusters=2).fit(df_merged)\n",
        "hac_labels = hac.labels_\n",
        "hac_labels_train = hac_labels[:len(df_train_X)]\n",
        "hac_label0, hac_label1 = get_majority_labels(hac_labels_train, df_train_y)\n",
        "\n",
        "hac_labels_val = hac_labels[-len(df_test_Final):]\n",
        "val_pred_hac = classify_by_cluster(hac_label0, hac_label1, hac_labels_val)"
      ],
      "execution_count": 0,
      "outputs": []
    },
    {
      "cell_type": "markdown",
      "metadata": {
        "id": "7Cm-0pkA9Ewp",
        "colab_type": "text"
      },
      "source": [
        "#### Decision Tree"
      ]
    },
    {
      "cell_type": "code",
      "metadata": {
        "id": "K09w1GgqaRvG",
        "colab_type": "code",
        "colab": {
          "base_uri": "https://localhost:8080/",
          "height": 34
        },
        "outputId": "c4086601-5737-4088-fa30-86e0c2824ebf"
      },
      "source": [
        "dtc = DecisionTreeClassifier(random_state=47, criterion=\"entropy\", min_samples_split=9, max_depth=8, min_samples_leaf=6, max_leaf_nodes= 56).fit(df_train_X, df_train_y)\n",
        "\n",
        "val_pred_dtc = dtc.predict(df_val_X)\n",
        "print(accuracy_score(df_val_y, val_pred_dtc))"
      ],
      "execution_count": 218,
      "outputs": [
        {
          "output_type": "stream",
          "text": [
            "0.7680838784147749\n"
          ],
          "name": "stdout"
        }
      ]
    },
    {
      "cell_type": "code",
      "metadata": {
        "id": "rK61IrhxrDOh",
        "colab_type": "code",
        "colab": {
          "base_uri": "https://localhost:8080/",
          "height": 34
        },
        "outputId": "f808508c-9b12-46e2-e71d-6f8b122526d7"
      },
      "source": [
        "print(recall_score(df_val_y, val_pred_dtc))"
      ],
      "execution_count": 219,
      "outputs": [
        {
          "output_type": "stream",
          "text": [
            "0.7394908229721728\n"
          ],
          "name": "stdout"
        }
      ]
    },
    {
      "cell_type": "markdown",
      "metadata": {
        "id": "oexRNZuAubju",
        "colab_type": "text"
      },
      "source": [
        "#### Hyperparameters tuning\n",
        "#### [Combination : Accuracy]\n",
        "#### 1. random_state = 47 : 70.98%\n",
        "#### 2. random_state =47, splitter=\"random\" : 69.6%\n",
        "#### 3. random_state =47, criterion=\"gini\" : 70.98%\n",
        "#### 4. random_state =47, criterion=\"entropy\" : 70.99%\n",
        "#### 5. random_state =47, criterion=\"gini\", min_samples_split = 2 : 70.98%\n",
        "#### 6. random_state =47, criterion=\"gini\", min_samples_split = 7 : 71.01%\n",
        "#### 7. random_state =47, criterion=\"gini\", min_samples_split = 9 : 71.18%\n",
        "#### 8. random_state =47, criterion=\"gini\", min_samples_split = 10 : 71.11%\n",
        "#### 9. random_state=47, criterion=\"entropy\", min_samples_split=9, max_depth=5 : 75.9%\n",
        "#### 10. random_state=47, criterion=\"entropy\", min_samples_split=9, max_depth=6 : 76.3%\n",
        "#### 11. random_state=47, criterion=\"entropy\", min_samples_split=9, max_depth=8 : 76.5%\n",
        "#### 12. random_state=47, criterion=\"entropy\", min_samples_split=9, max_depth=8, min_samples_leaf=1 : 76.5%\n",
        "#### 13. random_state=47, criterion=\"entropy\", min_samples_split=9, max_depth=8, min_samples_leaf=6 : 76.6%\n",
        "#### 14. random_state=47, criterion=\"entropy\", min_samples_split=9, max_depth=8, min_samples_leaf=6, max_leaf_nodes = 2 : 72.3%\n",
        "#### 14. random_state=47, criterion=\"entropy\", min_samples_split=9, max_depth=8, min_samples_leaf=6, max_leaf_nodes = 8 : 73.5%\n",
        "#### 14. random_state=47, criterion=\"entropy\", min_samples_split=9, max_depth=8, min_samples_leaf=6, max_leaf_nodes = 40 : 76.54%\n",
        "#### 14. random_state=47, criterion=\"entropy\", min_samples_split=9, max_depth=8, min_samples_leaf=6, max_leaf_nodes = 48 : 76.73%\n",
        "#### 14. random_state=47, criterion=\"entropy\", min_samples_split=9, max_depth=8, min_samples_leaf=6, max_leaf_nodes = 56 : 76.81%\n",
        "\n",
        "\n",
        "#### Now that we know our model's accuracy & recall, lets take the complete training dataset and predict weather for testing set."
      ]
    },
    {
      "cell_type": "code",
      "metadata": {
        "id": "41ULUzVSapOy",
        "colab_type": "code",
        "colab": {}
      },
      "source": [
        "dtcFin = DecisionTreeClassifier(random_state=47, criterion=\"entropy\", min_samples_split=9, max_depth=8, min_samples_leaf=6, max_leaf_nodes= 56).fit(df_X, df_y)\n",
        "\n",
        "val_pred_dtc_final = dtcFin.predict(df_test_Final)"
      ],
      "execution_count": 0,
      "outputs": []
    },
    {
      "cell_type": "markdown",
      "metadata": {
        "id": "DWYW21mct25K",
        "colab_type": "text"
      },
      "source": [
        "#### We got better results from Decision tree classifier than using KMeans, which did better than HAC. \n",
        "#### We can use clustering to perform classification, but classification algorithms perform better than clustering algorithms when it comes to classifying data."
      ]
    },
    {
      "cell_type": "markdown",
      "metadata": {
        "id": "7BUgtceA9LiV",
        "colab_type": "text"
      },
      "source": [
        "#### ROC-AUC for decision tree\n"
      ]
    },
    {
      "cell_type": "code",
      "metadata": {
        "id": "7Jszn4osuTr8",
        "colab_type": "code",
        "colab": {
          "base_uri": "https://localhost:8080/",
          "height": 295
        },
        "outputId": "85a7ceaf-dd17-4a22-d65f-73127c3ef87f"
      },
      "source": [
        "fpr, tpr, threshold = roc_curve(df_val_y, val_pred_dtc)\n",
        "plt.plot(fpr, tpr, label='AUC: %0.2f' % auc(fpr, tpr))\n",
        "plt.plot([0, 1], [0, 1], '--', lw=2)\n",
        "plt.title('ROC')\n",
        "plt.xlabel('FPR')\n",
        "plt.ylabel('TPR')\n",
        "plt.legend()\n",
        "plt.show()"
      ],
      "execution_count": 221,
      "outputs": [
        {
          "output_type": "display_data",
          "data": {
            "image/png": "[encoded data removed]",
            "text/plain": [
              "<Figure size 432x288 with 1 Axes>"
            ]
          },
          "metadata": {
            "tags": []
          }
        }
      ]
    },
    {
      "cell_type": "markdown",
      "metadata": {
        "id": "pIifs_xa9PtD",
        "colab_type": "text"
      },
      "source": [
        "#### Area Under Curve (AUC) = 0.77"
      ]
    },
    {
      "cell_type": "code",
      "metadata": {
        "id": "q6rEAx7tkmXB",
        "colab_type": "code",
        "colab": {}
      },
      "source": [
        "\n",
        "final = {\n",
        "    'ID' : df_test_copy.ID,\n",
        "    'kmeans' : val_pred_kmeansFinal,\n",
        "    'HAC' : val_pred_hac,\n",
        "    'DT' : val_pred_dtc_final\n",
        "}\n",
        "final_df = pd.DataFrame(final)\n",
        "final_df.to_csv('FinalOutput.csv')"
      ],
      "execution_count": 0,
      "outputs": []
    }
  ]
}